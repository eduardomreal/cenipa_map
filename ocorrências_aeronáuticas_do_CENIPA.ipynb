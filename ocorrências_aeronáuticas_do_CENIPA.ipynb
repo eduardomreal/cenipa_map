{
  "nbformat": 4,
  "nbformat_minor": 0,
  "metadata": {
    "colab": {
      "name": "ocorrências aeronáuticas do CENIPA.ipynb",
      "provenance": [],
      "collapsed_sections": []
    },
    "kernelspec": {
      "name": "python3",
      "display_name": "Python 3"
    }
  },
  "cells": [
    {
      "cell_type": "code",
      "metadata": {
        "id": "CL-9oE8Tg6gQ"
      },
      "source": [
        "#from sigmoidal\n",
        "#link streamlit deploy: https://share.streamlit.io/eduardomreal/cenipa_map/main/aero.py\n",
        "# importar os pacotes necessários\n",
        "import pandas as pd\n",
        "\n",
        "DATA_URL = \"https://raw.githubusercontent.com/carlosfab/curso_data_science_na_pratica/master/modulo_02/ocorrencias_aviacao.csv\"\n",
        "\n",
        "# importar o arquivo csv\n",
        "data = pd.read_csv(DATA_URL, index_col='codigo_ocorrencia')\n",
        "\n",
        "# ver as primeiras entradas\n",
        "data.head()"
      ],
      "execution_count": null,
      "outputs": []
    },
    {
      "cell_type": "markdown",
      "metadata": {
        "id": "XLvYnovblSWZ"
      },
      "source": [
        "Criar um dicionário apenas com as colunas que serão usadas e os nomes padronizados para cada uma dessas colunas"
      ]
    },
    {
      "cell_type": "code",
      "metadata": {
        "id": "qBLeOp48g74X"
      },
      "source": [
        "columns = {\n",
        "        'ocorrencia_latitude': 'latitude',\n",
        "        'ocorrencia_longitude': 'longitude',\n",
        "        'ocorrencia_dia': 'data',\n",
        "        'ocorrencia_classificacao': 'classificacao',\n",
        "        'ocorrencia_tipo': 'tipo',\n",
        "        'ocorrencia_tipo_categoria': 'tipo_categoria',\n",
        "        'ocorrencia_tipo_icao': 'tipo_icao',\n",
        "        'ocorrencia_aerodromo': 'aerodromo',\n",
        "        'ocorrencia_cidade': 'cidade',\n",
        "        'investigacao_status': 'status',\n",
        "        'divulgacao_relatorio_numero': 'relatorio_numero',\n",
        "        'total_aeronaves_envolvidas': 'aeronaves_envolvidas'\n",
        "    }"
      ],
      "execution_count": null,
      "outputs": []
    },
    {
      "cell_type": "code",
      "metadata": {
        "id": "zvwbbTfokkzt"
      },
      "source": [
        "data = data.rename(columns=columns)\n",
        "data.head()"
      ],
      "execution_count": null,
      "outputs": []
    },
    {
      "cell_type": "markdown",
      "metadata": {
        "id": "DkAqqcgtleH0"
      },
      "source": [
        "Converter o formato da coluna `data` para o formato `datetime`"
      ]
    },
    {
      "cell_type": "code",
      "metadata": {
        "id": "dAOTRpZsk_Nt"
      },
      "source": [
        "data.data"
      ],
      "execution_count": null,
      "outputs": []
    },
    {
      "cell_type": "code",
      "metadata": {
        "id": "6xYl6dnUky8q"
      },
      "source": [
        "data.data = data.data + \" \" + data.ocorrencia_horario\n",
        "data.data = pd.to_datetime(data.data)\n",
        "\n",
        "# ver conversão\n",
        "data.data"
      ],
      "execution_count": null,
      "outputs": []
    },
    {
      "cell_type": "code",
      "metadata": {
        "id": "h_g0OuEqlHgO"
      },
      "source": [
        "data.head()"
      ],
      "execution_count": null,
      "outputs": []
    },
    {
      "cell_type": "markdown",
      "metadata": {
        "id": "VwCerdlMlmP9"
      },
      "source": [
        "Selecionar apenas as colunas que serão usadas no app do Streamlit (será o retorno da função `load_data()`"
      ]
    },
    {
      "cell_type": "code",
      "metadata": {
        "id": "ij1K9aHLlJ5r"
      },
      "source": [
        "data[list(columns.values())]"
      ],
      "execution_count": null,
      "outputs": []
    },
    {
      "cell_type": "code",
      "metadata": {
        "id": "QR_BDc6oqOD6"
      },
      "source": [
        "data.classificacao.unique().tolist()"
      ],
      "execution_count": null,
      "outputs": []
    },
    {
      "cell_type": "code",
      "metadata": {
        "id": "eR1XdgEzR5Ik"
      },
      "source": [
        "data[(data.data.dt.year == 2017) & (data.classificacao.isin(['ACIDENTE']))]"
      ],
      "execution_count": null,
      "outputs": []
    },
    {
      "cell_type": "code",
      "metadata": {
        "id": "btqZEuRtVk2J"
      },
      "source": [
        "data.shape"
      ],
      "execution_count": null,
      "outputs": []
    },
    {
      "cell_type": "code",
      "metadata": {
        "id": "lAm29evZVoj_"
      },
      "source": [
        "# importar bibliotecas\n",
        "import streamlit as st\n",
        "import pandas as pd\n",
        "import pydeck as pdk\n",
        "\n",
        "\n",
        "DATA_URL = \"https://raw.githubusercontent.com/carlosfab/curso_data_science_na_pratica/master/modulo_02/ocorrencias_aviacao.csv\"\n",
        "\n",
        "@st.cache\n",
        "def load_data():\n",
        "    \"\"\"\n",
        "    Carrega os dados de ocorrências aeronáuticas do CENIPA.\n",
        "\n",
        "    :return: DataFrame com colunas selecionadas.\n",
        "    \"\"\"\n",
        "    columns = {\n",
        "        'ocorrencia_latitude': 'latitude',\n",
        "        'ocorrencia_longitude': 'longitude',\n",
        "        'ocorrencia_dia': 'data',\n",
        "        'ocorrencia_classificacao': 'classificacao',\n",
        "        'ocorrencia_tipo': 'tipo',\n",
        "        'ocorrencia_tipo_categoria': 'tipo_categoria',\n",
        "        'ocorrencia_tipo_icao': 'tipo_icao',\n",
        "        'ocorrencia_aerodromo': 'aerodromo',\n",
        "        'ocorrencia_cidade': 'cidade',\n",
        "        'investigacao_status': 'status',\n",
        "        'divulgacao_relatorio_numero': 'relatorio_numero',\n",
        "        'total_aeronaves_envolvidas': 'aeronaves_envolvidas'\n",
        "    }\n",
        "\n",
        "    data = pd.read_csv(DATA_URL, index_col='codigo_ocorrencia')\n",
        "    data = data.rename(columns=columns)\n",
        "    data.data = data.data + \" \" + data.ocorrencia_horario\n",
        "    data.data = pd.to_datetime(data.data)\n",
        "    data = data[list(columns.values())]\n",
        "\n",
        "    return data\n",
        "\n",
        "\n",
        "# carregar os dados\n",
        "df = load_data()\n",
        "labels = df.classificacao.unique().tolist()\n",
        "\n",
        "\n",
        "# SIDEBAR\n",
        "# Parâmetros e número de ocorrências\n",
        "st.sidebar.header(\"Parâmetros\")\n",
        "info_sidebar = st.sidebar.empty()    # placeholder, para informações filtradas que só serão carregadas depois\n",
        "\n",
        "# Slider de seleção do ano\n",
        "st.sidebar.subheader(\"Ano\")\n",
        "year_to_filter = st.sidebar.slider('Escolha o ano desejado', 2008, 2018, 2017)\n",
        "\n",
        "# Checkbox da Tabela\n",
        "st.sidebar.subheader(\"Tabela\")\n",
        "tabela = st.sidebar.empty()    # placeholder que só vai ser carregado com o df_filtered\n",
        "\n",
        "# Multiselect com os lables únicos dos tipos de classificação\n",
        "label_to_filter = st.sidebar.multiselect(\n",
        "    label=\"Escolha a classificação da ocorrência\",\n",
        "    options=labels,\n",
        "    default=[\"INCIDENTE\", 'ACIDENTE']\n",
        ")\n",
        "\n",
        "# Informação no rodapé da Sidebar\n",
        "st.sidebar.markdown(\"\"\"\n",
        "A base de dados de ocorrências aeronáuticas é gerenciada pelo ***Centro de Investigação e Prevenção de Acidentes \n",
        "Aeronáuticos (CENIPA)***.\n",
        "\"\"\")\n",
        "\n",
        "# Somente aqui os dados filtrados por ano são atualizados em novo dataframe\n",
        "filtered_df = df[(df.data.dt.year == year_to_filter) & (df.classificacao.isin(label_to_filter))]\n",
        "\n",
        "# Aqui o placehoder vazio finalmente é atualizado com dados do filtered_df\n",
        "info_sidebar.info(\"{} ocorrências selecionadas.\".format(filtered_df.shape[0]))\n",
        "\n",
        "\n",
        "\n",
        "\n",
        "# MAIN\n",
        "st.title(\"CENIPA - Acidentes Aeronáuticos\")\n",
        "st.markdown(f\"\"\"\n",
        "            ℹ️ Estão sendo exibidas as ocorrências classificadas como **{\", \".join(label_to_filter)}**\n",
        "            para o ano de **{year_to_filter}**.\n",
        "            \"\"\")\n",
        "\n",
        "# raw data (tabela) dependente do checkbox\n",
        "if tabela.checkbox(\"Mostrar tabela de dados\"):\n",
        "    st.write(filtered_df)\n",
        "\n",
        "\n",
        "# mapa\n",
        "st.subheader(\"Mapa de ocorrências\")\n",
        "st.map(filtered_df)"
      ],
      "execution_count": null,
      "outputs": []
    }
  ]
}